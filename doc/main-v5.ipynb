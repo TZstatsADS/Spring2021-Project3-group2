{
 "cells": [
  {
   "cell_type": "markdown",
   "id": "municipal-haiti",
   "metadata": {},
   "source": [
    "# STAT5243 Project 3: Imbalanced image classification"
   ]
  },
  {
   "cell_type": "markdown",
   "id": "polyphonic-representative",
   "metadata": {},
   "source": [
    "Group 2:"
   ]
  },
  {
   "cell_type": "markdown",
   "id": "bacterial-subsection",
   "metadata": {},
   "source": [
    "## Step 0: Set up"
   ]
  },
  {
   "cell_type": "code",
   "execution_count": 1,
   "id": "applied-consultancy",
   "metadata": {},
   "outputs": [],
   "source": [
    "import pandas as pd\n",
    "import numpy as np\n",
    "import matplotlib.pyplot as plt\n",
    "import matplotlib.image as mpimg"
   ]
  },
  {
   "cell_type": "code",
   "execution_count": 2,
   "id": "mechanical-french",
   "metadata": {},
   "outputs": [
    {
     "name": "stdout",
     "output_type": "stream",
     "text": [
      "J:\\2_Projects\\python_emotion_detector\\doc\n",
      "J:\\2_Projects\\python_emotion_detector\\output\\\n",
      "J:\\2_Projects\\python_emotion_detector\\data\\\n"
     ]
    }
   ],
   "source": [
    "import os\n",
    "wd = os.getcwd()\n",
    "print(wd)\n",
    "\n",
    "output_dir = os.path.join(os.path.dirname(wd), \"output\\\\\")\n",
    "print(output_dir)\n",
    "\n",
    "data_dir = os.path.join(os.path.dirname(wd), \"data\\\\\")\n",
    "print(data_dir)"
   ]
  },
  {
   "cell_type": "code",
   "execution_count": 15,
   "id": "romantic-yugoslavia",
   "metadata": {},
   "outputs": [],
   "source": [
    "import sys\n",
    "sys.path.insert(1, os.path.join(os.path.dirname(wd), \"lib\\\\\"))\n",
    "from functions import *\n",
    "from validation import *\n",
    "from train import *"
   ]
  },
  {
   "cell_type": "code",
   "execution_count": 16,
   "id": "overhead-cuisine",
   "metadata": {},
   "outputs": [],
   "source": [
    "from sklearn.neighbors import KNeighborsClassifier"
   ]
  },
  {
   "cell_type": "code",
   "execution_count": 17,
   "id": "hollow-terrorist",
   "metadata": {
    "scrolled": true
   },
   "outputs": [],
   "source": [
    "from sklearn.datasets import make_classification\n",
    "from sklearn.model_selection import cross_validate, cross_val_score\n",
    "from sklearn.model_selection import RepeatedStratifiedKFold\n",
    "import xgboost as xgb\n",
    "from xgboost import XGBClassifier"
   ]
  },
  {
   "cell_type": "code",
   "execution_count": 18,
   "id": "enhanced-broadcasting",
   "metadata": {},
   "outputs": [],
   "source": [
    "labels = pd.read_csv(data_dir + \"\\\\train_set\\\\label.csv\")\n",
    "y = np.array(labels['label'])"
   ]
  },
  {
   "cell_type": "code",
   "execution_count": 19,
   "id": "studied-negotiation",
   "metadata": {},
   "outputs": [
    {
     "data": {
      "text/plain": [
       "(3000, 3003)"
      ]
     },
     "execution_count": 19,
     "metadata": {},
     "output_type": "execute_result"
    }
   ],
   "source": [
    "X_f1 = np.array(pd.read_csv(output_dir + \"feature1.csv\", header=None))\n",
    "X_f1.shape"
   ]
  },
  {
   "cell_type": "code",
   "execution_count": 20,
   "id": "continuous-footwear",
   "metadata": {},
   "outputs": [
    {
     "data": {
      "text/plain": [
       "(3000, 78)"
      ]
     },
     "execution_count": 20,
     "metadata": {},
     "output_type": "execute_result"
    }
   ],
   "source": [
    "X_f2 = np.array(pd.read_csv(output_dir + \"feature2.csv\", header=None))\n",
    "X_f2.shape"
   ]
  },
  {
   "cell_type": "code",
   "execution_count": 21,
   "id": "informed-production",
   "metadata": {},
   "outputs": [
    {
     "data": {
      "text/plain": [
       "(3000, 100)"
      ]
     },
     "execution_count": 21,
     "metadata": {},
     "output_type": "execute_result"
    }
   ],
   "source": [
    "X_f1_reduced = np.array(pd.read_csv(output_dir + \"feature1_reduced.csv\", header=None))\n",
    "X_f1_reduced.shape"
   ]
  },
  {
   "cell_type": "code",
   "execution_count": null,
   "id": "elect-treasury",
   "metadata": {},
   "outputs": [],
   "source": [
    "# Note for Chloe: Sorry for the name change ..., I didn't notice until later"
   ]
  },
  {
   "cell_type": "code",
   "execution_count": 22,
   "id": "spectacular-jumping",
   "metadata": {},
   "outputs": [
    {
     "name": "stdout",
     "output_type": "stream",
     "text": [
      "(4804, 100)\n",
      "(4804,)\n"
     ]
    }
   ],
   "source": [
    "f1_oversampled = np.array(pd.read_csv(output_dir + \"feature1_o_balanced.csv\", header=None))\n",
    "X_f1_oversampled, y_oversampled = data_prepare(f1_oversampled)\n",
    "print(X_f1_oversampled.shape)\n",
    "print(y_oversampled.shape)"
   ]
  },
  {
   "cell_type": "code",
   "execution_count": 23,
   "id": "fifty-fiber",
   "metadata": {},
   "outputs": [
    {
     "name": "stdout",
     "output_type": "stream",
     "text": [
      "(2160, 100)\n",
      "(2160,)\n"
     ]
    }
   ],
   "source": [
    "f1_ou_balanced = np.array(pd.read_csv(output_dir + \"feature1_ou_balanced.csv\", header=None))\n",
    "X_f1_resamp, y_resamp = data_prepare(f1_ou_balanced)\n",
    "print(X_f1_resamp.shape)\n",
    "print(y_resamp.shape)"
   ]
  },
  {
   "cell_type": "code",
   "execution_count": 40,
   "id": "intense-adapter",
   "metadata": {},
   "outputs": [
    {
     "name": "stdout",
     "output_type": "stream",
     "text": [
      "{'fit_time': 13.965600697199504, 'score_time': 0.03833300272623698, 'test_precision': 0.6240551575649552, 'test_recall': 0.2804896421845574, 'test_f1': 0.3840611110459173, 'test_roc_auc': 0.7624792295064248}\n"
     ]
    }
   ],
   "source": [
    "# Using XBboost as baseline to pick a processed dataset\n",
    "model = xgb.XGBClassifier()\n",
    "\n",
    "# define evaluation procedure\n",
    "cv = RepeatedStratifiedKFold(n_splits=10, n_repeats=3, random_state=1)\n",
    "# evaluate model\n",
    "# change dataset name to obtain corresponding result\n",
    "scores = cross_validate(model, X_f1_reduced, y, \n",
    "                        scoring=['precision', 'recall', 'f1', 'roc_auc'], cv=cv, n_jobs=-1)\n",
    "# summarize performance\n",
    "avgDict = {}\n",
    "for k,v in scores.items():\n",
    "    avgDict[k] = sum(v)/ float(len(v))\n",
    "print(avgDict)"
   ]
  },
  {
   "cell_type": "code",
   "execution_count": 11,
   "id": "collected-interest",
   "metadata": {},
   "outputs": [],
   "source": [
    "# performance result\n",
    "\n",
    "dataset_selection_result = {\n",
    "    \"X_f1_reduced\": {'fit_time': 13.965600697199504, 'score_time': 0.03833300272623698, 'test_precision': 0.6240551575649552, 'test_recall': 0.2804896421845574, 'test_f1': 0.3840611110459173, 'test_roc_auc': 0.7624792295064248},\n",
    "    \"X_f2\": {'fit_time': 11.299797844886779, 'score_time': 0.03393423557281494, 'test_precision': 0.47588854564120425, 'test_recall': 0.13321092278719399, 'test_f1': 0.20592399118595214, 'test_roc_auc': 0.6807227075209747},\n",
    "    \"X_f1_oversampled\": {'fit_time': 23.10386714140574, 'score_time': 0.058831556638081865, 'test_precision': 0.8758774934820591, 'test_recall': 0.9329783310281237, 'test_f1': 0.9033302402033772, 'test_roc_auc': 0.9633060958390963},\n",
    "    \"X_f1_resamp\": {'fit_time': 10.575099563598632, 'score_time': 0.030333979924519857, 'test_precision': 0.7810116010855823, 'test_recall': 0.8311728395061727, 'test_f1': 0.804943441342693, 'test_roc_auc': 0.8813671696387746}\n",
    "}"
   ]
  },
  {
   "cell_type": "code",
   "execution_count": null,
   "id": "raising-place",
   "metadata": {},
   "outputs": [],
   "source": []
  },
  {
   "cell_type": "code",
   "execution_count": 24,
   "id": "noble-muscle",
   "metadata": {},
   "outputs": [],
   "source": [
    "from sklearn.metrics import accuracy_score"
   ]
  },
  {
   "cell_type": "code",
   "execution_count": 20,
   "id": "happy-commercial",
   "metadata": {},
   "outputs": [],
   "source": [
    "baseline_knn_fitted, tm_knn_fit = train(baseline_knn, X_f1_oversampled, y_oversampled)"
   ]
  },
  {
   "cell_type": "code",
   "execution_count": 23,
   "id": "korean-spyware",
   "metadata": {},
   "outputs": [
    {
     "data": {
      "text/plain": [
       "{'n_neighbors': [3, 6, 9, 12],\n",
       " 'weights': ['uniform', 'distance'],\n",
       " 'metric': ['euclidean', 'manhattan']}"
      ]
     },
     "execution_count": 23,
     "metadata": {},
     "output_type": "execute_result"
    }
   ],
   "source": [
    "param_grid_knn"
   ]
  },
  {
   "cell_type": "code",
   "execution_count": 26,
   "id": "atomic-administrator",
   "metadata": {
    "scrolled": true
   },
   "outputs": [
    {
     "name": "stdout",
     "output_type": "stream",
     "text": [
      "Time for grid search: 35.0049 s\n",
      "AUC 0.915 (+/-0.032) and accuracy 0.823 for {'metric': 'euclidean', 'n_neighbors': 3, 'weights': 'uniform'}\n",
      "AUC 0.922 (+/-0.023) and accuracy 0.827 for {'metric': 'euclidean', 'n_neighbors': 3, 'weights': 'distance'}\n",
      "AUC 0.915 (+/-0.068) and accuracy 0.814 for {'metric': 'euclidean', 'n_neighbors': 6, 'weights': 'uniform'}\n",
      "AUC 0.940 (+/-0.044) and accuracy 0.815 for {'metric': 'euclidean', 'n_neighbors': 6, 'weights': 'distance'}\n",
      "AUC 0.903 (+/-0.076) and accuracy 0.771 for {'metric': 'euclidean', 'n_neighbors': 9, 'weights': 'uniform'}\n",
      "AUC 0.944 (+/-0.048) and accuracy 0.786 for {'metric': 'euclidean', 'n_neighbors': 9, 'weights': 'distance'}\n",
      "AUC 0.889 (+/-0.079) and accuracy 0.779 for {'metric': 'euclidean', 'n_neighbors': 12, 'weights': 'uniform'}\n",
      "AUC 0.940 (+/-0.055) and accuracy 0.785 for {'metric': 'euclidean', 'n_neighbors': 12, 'weights': 'distance'}\n",
      "AUC 0.909 (+/-0.035) and accuracy 0.824 for {'metric': 'manhattan', 'n_neighbors': 3, 'weights': 'uniform'}\n",
      "AUC 0.917 (+/-0.027) and accuracy 0.830 for {'metric': 'manhattan', 'n_neighbors': 3, 'weights': 'distance'}\n",
      "AUC 0.910 (+/-0.065) and accuracy 0.812 for {'metric': 'manhattan', 'n_neighbors': 6, 'weights': 'uniform'}\n",
      "AUC 0.937 (+/-0.043) and accuracy 0.813 for {'metric': 'manhattan', 'n_neighbors': 6, 'weights': 'distance'}\n",
      "AUC 0.898 (+/-0.074) and accuracy 0.772 for {'metric': 'manhattan', 'n_neighbors': 9, 'weights': 'uniform'}\n",
      "AUC 0.940 (+/-0.051) and accuracy 0.788 for {'metric': 'manhattan', 'n_neighbors': 9, 'weights': 'distance'}\n",
      "AUC 0.883 (+/-0.080) and accuracy 0.770 for {'metric': 'manhattan', 'n_neighbors': 12, 'weights': 'uniform'}\n",
      "AUC 0.936 (+/-0.056) and accuracy 0.787 for {'metric': 'manhattan', 'n_neighbors': 12, 'weights': 'distance'}\n",
      "Best 'accuracy': 0.830\n",
      "Best parameters: {'metric': 'manhattan', 'n_neighbors': 3, 'weights': 'distance'}\n"
     ]
    }
   ],
   "source": [
    "KNN = grid_search(X_f1_oversampled, y_oversampled, baseline_knn, param_grid_knn, cv=10, print_step=True, refit='accuracy')"
   ]
  },
  {
   "cell_type": "code",
   "execution_count": 25,
   "id": "valid-campbell",
   "metadata": {},
   "outputs": [],
   "source": [
    "baseline_xgb_fitted, tm_xgb_fit = train(baseline_xgb, X_f1_oversampled, y_oversampled)"
   ]
  },
  {
   "cell_type": "code",
   "execution_count": 36,
   "id": "statewide-scenario",
   "metadata": {},
   "outputs": [
    {
     "name": "stdout",
     "output_type": "stream",
     "text": [
      "Time for grid search: 426.1217 s\n",
      "AUC 0.882 (+/-0.031) and accuracy 0.800 for {'colsample_bytree': 0.6, 'gamma': 0.5, 'max_depth': 5, 'min_child_weight': 1, 'subsample': 0.6}\n",
      "AUC 0.900 (+/-0.033) and accuracy 0.815 for {'colsample_bytree': 0.6, 'gamma': 0.5, 'max_depth': 5, 'min_child_weight': 1, 'subsample': 1.0}\n",
      "AUC 0.883 (+/-0.031) and accuracy 0.802 for {'colsample_bytree': 0.6, 'gamma': 0.5, 'max_depth': 5, 'min_child_weight': 5, 'subsample': 0.6}\n",
      "AUC 0.898 (+/-0.035) and accuracy 0.812 for {'colsample_bytree': 0.6, 'gamma': 0.5, 'max_depth': 5, 'min_child_weight': 5, 'subsample': 1.0}\n",
      "AUC 0.861 (+/-0.030) and accuracy 0.780 for {'colsample_bytree': 0.6, 'gamma': 1.0, 'max_depth': 5, 'min_child_weight': 1, 'subsample': 0.6}\n",
      "AUC 0.879 (+/-0.037) and accuracy 0.793 for {'colsample_bytree': 0.6, 'gamma': 1.0, 'max_depth': 5, 'min_child_weight': 1, 'subsample': 1.0}\n",
      "AUC 0.861 (+/-0.032) and accuracy 0.781 for {'colsample_bytree': 0.6, 'gamma': 1.0, 'max_depth': 5, 'min_child_weight': 5, 'subsample': 0.6}\n",
      "AUC 0.879 (+/-0.037) and accuracy 0.799 for {'colsample_bytree': 0.6, 'gamma': 1.0, 'max_depth': 5, 'min_child_weight': 5, 'subsample': 1.0}\n",
      "AUC 0.839 (+/-0.031) and accuracy 0.759 for {'colsample_bytree': 0.6, 'gamma': 1.5, 'max_depth': 5, 'min_child_weight': 1, 'subsample': 0.6}\n",
      "AUC 0.863 (+/-0.033) and accuracy 0.783 for {'colsample_bytree': 0.6, 'gamma': 1.5, 'max_depth': 5, 'min_child_weight': 1, 'subsample': 1.0}\n",
      "AUC 0.839 (+/-0.031) and accuracy 0.759 for {'colsample_bytree': 0.6, 'gamma': 1.5, 'max_depth': 5, 'min_child_weight': 5, 'subsample': 0.6}\n",
      "AUC 0.863 (+/-0.033) and accuracy 0.783 for {'colsample_bytree': 0.6, 'gamma': 1.5, 'max_depth': 5, 'min_child_weight': 5, 'subsample': 1.0}\n",
      "AUC 0.888 (+/-0.029) and accuracy 0.801 for {'colsample_bytree': 0.8, 'gamma': 0.5, 'max_depth': 5, 'min_child_weight': 1, 'subsample': 0.6}\n",
      "AUC 0.902 (+/-0.031) and accuracy 0.822 for {'colsample_bytree': 0.8, 'gamma': 0.5, 'max_depth': 5, 'min_child_weight': 1, 'subsample': 1.0}\n",
      "AUC 0.888 (+/-0.028) and accuracy 0.801 for {'colsample_bytree': 0.8, 'gamma': 0.5, 'max_depth': 5, 'min_child_weight': 5, 'subsample': 0.6}\n",
      "AUC 0.900 (+/-0.034) and accuracy 0.822 for {'colsample_bytree': 0.8, 'gamma': 0.5, 'max_depth': 5, 'min_child_weight': 5, 'subsample': 1.0}\n",
      "AUC 0.867 (+/-0.030) and accuracy 0.781 for {'colsample_bytree': 0.8, 'gamma': 1.0, 'max_depth': 5, 'min_child_weight': 1, 'subsample': 0.6}\n",
      "AUC 0.880 (+/-0.031) and accuracy 0.793 for {'colsample_bytree': 0.8, 'gamma': 1.0, 'max_depth': 5, 'min_child_weight': 1, 'subsample': 1.0}\n",
      "AUC 0.867 (+/-0.029) and accuracy 0.780 for {'colsample_bytree': 0.8, 'gamma': 1.0, 'max_depth': 5, 'min_child_weight': 5, 'subsample': 0.6}\n",
      "AUC 0.881 (+/-0.033) and accuracy 0.799 for {'colsample_bytree': 0.8, 'gamma': 1.0, 'max_depth': 5, 'min_child_weight': 5, 'subsample': 1.0}\n",
      "AUC 0.847 (+/-0.036) and accuracy 0.766 for {'colsample_bytree': 0.8, 'gamma': 1.5, 'max_depth': 5, 'min_child_weight': 1, 'subsample': 0.6}\n",
      "AUC 0.862 (+/-0.032) and accuracy 0.780 for {'colsample_bytree': 0.8, 'gamma': 1.5, 'max_depth': 5, 'min_child_weight': 1, 'subsample': 1.0}\n",
      "AUC 0.847 (+/-0.036) and accuracy 0.766 for {'colsample_bytree': 0.8, 'gamma': 1.5, 'max_depth': 5, 'min_child_weight': 5, 'subsample': 0.6}\n",
      "AUC 0.862 (+/-0.032) and accuracy 0.780 for {'colsample_bytree': 0.8, 'gamma': 1.5, 'max_depth': 5, 'min_child_weight': 5, 'subsample': 1.0}\n",
      "AUC 0.890 (+/-0.036) and accuracy 0.807 for {'colsample_bytree': 1.0, 'gamma': 0.5, 'max_depth': 5, 'min_child_weight': 1, 'subsample': 0.6}\n",
      "AUC 0.902 (+/-0.036) and accuracy 0.822 for {'colsample_bytree': 1.0, 'gamma': 0.5, 'max_depth': 5, 'min_child_weight': 1, 'subsample': 1.0}\n",
      "AUC 0.888 (+/-0.033) and accuracy 0.803 for {'colsample_bytree': 1.0, 'gamma': 0.5, 'max_depth': 5, 'min_child_weight': 5, 'subsample': 0.6}\n",
      "AUC 0.900 (+/-0.038) and accuracy 0.817 for {'colsample_bytree': 1.0, 'gamma': 0.5, 'max_depth': 5, 'min_child_weight': 5, 'subsample': 1.0}\n",
      "AUC 0.868 (+/-0.034) and accuracy 0.786 for {'colsample_bytree': 1.0, 'gamma': 1.0, 'max_depth': 5, 'min_child_weight': 1, 'subsample': 0.6}\n",
      "AUC 0.876 (+/-0.032) and accuracy 0.793 for {'colsample_bytree': 1.0, 'gamma': 1.0, 'max_depth': 5, 'min_child_weight': 1, 'subsample': 1.0}\n",
      "AUC 0.868 (+/-0.033) and accuracy 0.784 for {'colsample_bytree': 1.0, 'gamma': 1.0, 'max_depth': 5, 'min_child_weight': 5, 'subsample': 0.6}\n",
      "AUC 0.878 (+/-0.033) and accuracy 0.796 for {'colsample_bytree': 1.0, 'gamma': 1.0, 'max_depth': 5, 'min_child_weight': 5, 'subsample': 1.0}\n",
      "AUC 0.849 (+/-0.034) and accuracy 0.771 for {'colsample_bytree': 1.0, 'gamma': 1.5, 'max_depth': 5, 'min_child_weight': 1, 'subsample': 0.6}\n",
      "AUC 0.851 (+/-0.029) and accuracy 0.772 for {'colsample_bytree': 1.0, 'gamma': 1.5, 'max_depth': 5, 'min_child_weight': 1, 'subsample': 1.0}\n",
      "AUC 0.849 (+/-0.034) and accuracy 0.771 for {'colsample_bytree': 1.0, 'gamma': 1.5, 'max_depth': 5, 'min_child_weight': 5, 'subsample': 0.6}\n",
      "AUC 0.851 (+/-0.029) and accuracy 0.772 for {'colsample_bytree': 1.0, 'gamma': 1.5, 'max_depth': 5, 'min_child_weight': 5, 'subsample': 1.0}\n",
      "Best 'roc_auc': 0.902\n",
      "Accuracy: 0.822\n",
      "Best parameters: {'colsample_bytree': 0.8, 'gamma': 0.5, 'max_depth': 5, 'min_child_weight': 1, 'subsample': 1.0}\n"
     ]
    }
   ],
   "source": [
    "XGB = grid_search(X_f1_oversampled, y_oversampled, baseline_xgb, param_grid_xgb, cv=5, print_step=True, refit='roc_auc')"
   ]
  },
  {
   "cell_type": "code",
   "execution_count": null,
   "id": "weird-haiti",
   "metadata": {},
   "outputs": [],
   "source": []
  }
 ],
 "metadata": {
  "kernelspec": {
   "display_name": "Python 3",
   "language": "python",
   "name": "python3"
  },
  "language_info": {
   "codemirror_mode": {
    "name": "ipython",
    "version": 3
   },
   "file_extension": ".py",
   "mimetype": "text/x-python",
   "name": "python",
   "nbconvert_exporter": "python",
   "pygments_lexer": "ipython3",
   "version": "3.8.8"
  }
 },
 "nbformat": 4,
 "nbformat_minor": 5
}






KNN = KNeighborsClassifier(metric='manhattan', n_neighbors=3, weights='distance')
XGB = XGBClassifier(objective = 'reg:squarederror', colsample_bytree = 0.8, gamma=0.5,
   learning_rate=0.1, max_depth=5, min_child_weight=1, subsample=1.0, alpha=10
   )


param_grid_knn = {
    'n_neighbors': [3, 6, 9, 12],
    'weights': ['uniform', 'distance'],
    'metric': ['euclidean', 'manhattan']
}


param_grid_xgb = {
    'min_child_weight': [1, 5, 10],
    'gamma': [0.5, 1.0, 1.5],
    'subsample': [0.6, 0.8, 1.0],
    'colsample_bytree': [0.6, 0.8, 1.0],
    'max_depth': [3, 4, 5]    
}

